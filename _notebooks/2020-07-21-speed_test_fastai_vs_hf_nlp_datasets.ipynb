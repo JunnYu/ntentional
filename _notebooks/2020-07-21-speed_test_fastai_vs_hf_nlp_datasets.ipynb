{
 "cells": [
  {
   "cell_type": "markdown",
   "metadata": {},
   "source": [
    "# \"Speed-testing HuggingFace nlp Datasets vs Fastai\"\n",
    "\n",
    "> Can we get an additional text processing speedup with the nlp Datasets library?\n",
    "\n",
    "- badges: true\n",
    "- categories: [nlp, fastai, dataloader]\n",
    "- image: images/sonic.png"
   ]
  },
  {
   "cell_type": "markdown",
   "metadata": {},
   "source": [
    "## tl;dr\n",
    "- Fastai's `Textdataloader` is well optimised and appears to be faster than `nlp Datasets` in the context of setting up your dataloaders (pre-processing, tokenizing, sorting) for a dataset of 1.6M tweets\n",
    "\n",
    "## Speed\n",
    "I started playing around with HuggingFace's [`nlp Datasets`](https://huggingface.co/nlp)  library recently and was blown away by the speed at which you can iterate through the data, thanks to some PyArrow wizardry its seriously fast!\n",
    "\n",
    "> twitter: https://twitter.com/Thom_Wolf/status/1272512974935203841\n",
    "\n",
    "So I wondered if there was a significant speed-up to be gained by doing as much text processing as I could with this library as opposed to Fastai's default text processing. Also, after previously discovering Fastai's functionality to do [faster text loading](https://forums.fast.ai/t/nlp-speed-up-if-using-sorteddl/74636) I was in the mood for further speed-ups! 💨\n",
    "\n",
    "\n",
    "## `nlp Datasets`\n",
    "\n",
    "The [`nlp Datasets`](https://huggingface.co/nlp) library is incredibly memory efficient; from the docs:\n",
    "\n",
    "> It provides a very efficient way to load and process data from raw files (CSV/JSON/text) or in-memory data (python dict, pandas dataframe) with a special focus on memory efficency and speed. As a matter of example, **loading a 18GB dataset like English Wikipedia allocate 9 MB in RAM** and you can iterate over the dataset **at 1-2 GBit/s** in python.\n",
    "\n",
    "It also hosts 130+ common nlp research datasets AND (thanks to [this pointer from Thomas Wolf](https://discuss.huggingface.co/t/nlp-0-3-0-is-out/50/3) on the new HuggingFace forums) I also learned that you can also easily load your own CSVs (or jsons, pandas dataframes) and bask in all of that speedy goodness, for example like below:\n",
    "\n",
    "```\n",
    "from nlp import load_dataset\n",
    "dataset = load_dataset('csv', data_files='my_file.csv')\n",
    "```\n",
    "\n",
    "#### Caching\n",
    "Another great thing about `nlp Datasets`' speed is that even if processing all of your data turns out to be slower than your current conventional processing method, the **results of its processing are cached**, which means that the second time around it will be **much faster** than your current processing method! This also applies for a new python session, i.e. if you restart your jupyter notebook!\n",
    "\n",
    "\n",
    "By the way, if you're curious to learn more about PyArrow then I highly recommend Dejan Simic's [post about it](https://towardsdatascience.com/apache-arrow-read-dataframe-with-zero-memory-69634092b1a)\n",
    "\n",
    "> twitter: https://twitter.com/simicdds/status/1276521257304023046\n",
    "\n",
    "\n",
    "\n",
    "> Note: If you love the sound of laptop fans spinning like sonic the hedgehog 🦔, redhot battery packs 🔥 and the adrenaline 😰 of living on the edge  of pandas' capabilities as you explore, plot and manipulate your giant text datasets, then the `nlp` Datasets library probably isn't for you. "
   ]
  },
  {
   "cell_type": "markdown",
   "metadata": {},
   "source": [
    "Otherwise, regardless about using it for your final DL pipeline or not, `nlp Datasets` is definitely worth using just for the shear speed at which it can apply functions to GB's of data.\n",
    "\n",
    "So, is it faster? Lets see! \n",
    "\n",
    "## The Setup\n",
    "\n",
    "To find out we'll be comparing Fastai's high-level `TextDataloders` class to a custom dataprocessing pipeline using HuggingFace's `nlp Datasets` datasets library.\n",
    "\n",
    "#### Fastai\n",
    "This Fastai class does a bunch of different things, all by calling just 1 line of code, including:\n",
    "- Pre and Post Processing\n",
    "- Tokenization with Spacy's tokenizer, including creating a vocabulary and **parallelising** the tokenization\n",
    "- Speed optimizations including sorting data by text sample length and padding only to the longest item in the sequence, [similar what was described here](https://towardsdatascience.com/divide-hugging-face-transformers-training-time-by-2-or-more-21bf7129db9q-21bf7129db9e)\n",
    "- Creating the train and validation dataloaders and putting them onto the GPU\n",
    "\n",
    "#### HuggingFace `nlp Datasets`\n",
    "The `nlp` Datasets pipeline I wrote tries to replicate all of the core functionality of `TextDataloaders` as best I could. \n",
    "\n",
    "> Note: I couldn't figure out how to parallelise the text processing with `nlp Datasets`, although this is probably down to my lack of experience with parallelism as opposed to a limitation of the library\n",
    "\n",
    "## Sentiment Dataset\n",
    "For this experiment I used the [Sentiment140](https://huggingface.co/datasets/sentiment140) dataset, a sentiment classifcation dataset of Twitter data with 1,600,000 tweets and ~120M space-separated tokens.\n",
    "\n",
    "For our experiment we'll test with both 10% and 100% of the dataset with a 80/20 train/val split\n",
    "\n",
    "## Experiment Settings\n",
    "\n",
    "The timings will consist of 2 elements, an \"init\" and \"1 epoch\". The former will covering the entire process from loading the data (already downloaded) to creating the dataloaders. The second element will simply consist of iterating through the entire training dataset once.\n",
    "\n",
    "### Init Details\n",
    "The initialisation consists of:\n",
    "\n",
    "0) Reading the data from disk, from a csv for fastai and from a PyArrow file for `nlp Datasets`\n",
    "   - Note that for `nlp Datasets` a train set and a validation set were downloaded separately. Previously I had used `.select` or `.train_test_split` to generate a train and val set, however using either of these methods added over 7minutes to the pre-processing time.\n",
    "\n",
    "\n",
    "\n",
    "1) Applying [fastai's default text pre-processing functions](http://dev.fast.ai/text.core#Preprocessing-rules). These will:\n",
    "\n",
    "\n",
    "    - Fix various messy bits of html sometimes seen in documents\n",
    "    - Replace repetitions at the character level, e.g. `cccc` becomes: `TK_REP 4 c`\n",
    "    - Replace word repetitions, e.g. `cow cow cow cow` becomes: `TK_WREP 4 cow`\n",
    "    - Add spaces around / and #\n",
    "    - Remove multiple spaces \n",
    "    - Replace tokens in ALL CAPS by their lower version and add TK_UP before.\n",
    "    - Replace characters in ALL CAPS by their lower version and add TK_UP before.\n",
    "    - Lowercases everything\n",
    "2) Tokenizing based on Spacy's tokenizer (fastai's default)\n",
    "\n",
    "3) Applying a post-processing rule which replaces embedded spaces in a token with unicode line char to allow for split/join\n",
    "\n",
    "4) Adding padding and sorting the samples by length for more efficient gpu usage\n",
    "\n",
    "5) Creation of the train and validation dataloaders\n",
    "\n",
    "\n",
    "## Results\n",
    "\n",
    "#### 10% Data\n",
    "Results are...mixed! While the Fastai convienience function had a faster init (48s vs 71s), the PyArrow-backed `nlp` run through a single epoch was significantly faster (11s vs 14s).\n",
    "\n",
    "| 160K ROWS: | Init (s)| 1 epoch (s) | 1 mini-batch [bs=64] (ms) |\n",
    "| :- | :-: | :-: | :-: |\n",
    "| **Fastai** | 124 | 14.3 | 7.4 | \n",
    "| **Fastai w/sorted** | **48.1** | 14.3 | 7.4 |\n",
    "| **nlp** | 71.2 | **11.3** | **5.6** |\n",
    "\n",
    "#### 100% Data\n",
    "For the full dataset of 1.6M tweets, Fastai dramatically outperforms `nlp Datasets`.\n",
    "\n",
    "| 1.6M ROWS: | Init (s) | 1 epoch (s) |\n",
    "| :- | :-: | :-: |\n",
    "| **Fastai w/sorted** | **484** | **142** |\n",
    "| **nlp**| 1034 | 323 |\n",
    "\n",
    "## But maybe `nlp Datasets` might be faster?\n",
    "\n",
    "Given the large difference in speed on the full dataset, I am suspicious about some parts of my implementation, specifically **sorting** the entire dataset which takes takes **416s**. Do I need to sort the full dataset? Maybe there is a smarter way to serve up a sorted dataset similar to how Fastai achieves it? Removing sorting brings `nlp Datasets` timing down to **618s**, still slower than Fastai's **484s**. Possibly with parallelism Fastai could be matched?\n",
    "\n",
    "In addition, `nlp Datasets`'s caching means that the second time around you do your pre-processing it will be **significantly faster**.\n",
    "\n",
    "\n",
    "## RAM Usage\n",
    "Note that Fastai was faster on the full 1.6M row dataset, but I also had to delete the pandas dataframe used to calculate the text lengths as it was taking up too much RAM and causing my dataloaders to fail. On the other hand, `nlp Datasets` won't incur this issue as it is reading directly from disk. So even if Fastai is faster, `nlp Datasets` could still save you a few headaches when deadling with large datasets.\n",
    "\n",
    "## To End\n",
    "While not as definitive as I would like, it appears Fastai's `TextDataloaders` convenience function is faster than `nlp Datasets` for datasets of this scale for an intial setup. The question of parallelism remains. `nlp Datasets` caching will mean that if going through the same setup a second time it will be significantly faster. \n",
    "\n",
    "I still plan on using the `nlp Datasets` library for one-off processing and experimentation as I think it offers incredible speed and flexiblility, the team at HuggingFace have done amazing work here. "
   ]
  },
  {
   "cell_type": "code",
   "execution_count": 16,
   "metadata": {},
   "outputs": [
    {
     "data": {
      "image/png": "[encoded data removed]",
      "text/plain": [
       "<Figure size 432x288 with 1 Axes>"
      ]
     },
     "metadata": {
      "needs_background": "light"
     },
     "output_type": "display_data"
    }
   ],
   "source": [
    "#hide\n",
    "def get_timings(n_epochs, init, per_ep):\n",
    "    #init=48\n",
    "    #eps = n_epochs * 14.25\n",
    "    eps = n_epochs * per_ep\n",
    "    return init+eps\n",
    "\n",
    "fastai_sorted_10 = [48, 14.25]\n",
    "fastai_sorted_100 = [484, 142]\n",
    "nlp_10 = [71, 11.27]\n",
    "nlp_100 = [1290, 323]\n",
    "\n",
    "timings_ls, timing_data = [], []\n",
    "timings = [fastai_sorted_10,fastai_sorted_100, nlp_10, nlp_100]\n",
    "\n",
    "n_eps = list(range(1,20,2))\n",
    "\n",
    "for t in timings: timing_data.append([get_timings(n_epochs=n, init=t[0], per_ep=t[1]) for n in n_eps])\n",
    "\n",
    "colors = ['deepskyblue','blue','goldenrod', 'darkorange']\n",
    "labels = ['fastai_sorted_10','fastai_sorted_100','nlp_10','nlp_100']\n",
    "for i,t in enumerate(timing_data):\n",
    "    plt.plot(t, color=colors[i], label=labels[i])\n",
    "\n",
    "plt.title('Training run duration')\n",
    "plt.xlabel('Num Epochs')\n",
    "plt.ylabel('Time (s)')\n",
    "plt.yscale('log')\n",
    "plt.legend()\n",
    "plt.show();"
   ]
  },
  {
   "cell_type": "markdown",
   "metadata": {},
   "source": [
    "## Thanks for Reading 😃\n",
    "As always, I would love to hear if you have any comments, thoughts or criticisms, you can find me on Twitter at [@mcgenergy](www.twitter.com/mcgenergy)\n",
    "\n",
    "## [Appendix]\n",
    "\n",
    "## Code:\n",
    "For those curious, you can peek the code used in testing this below 👇"
   ]
  },
  {
   "cell_type": "code",
   "execution_count": 1,
   "metadata": {
    "scrolled": true
   },
   "outputs": [],
   "source": [
    "#collapse-hide\n",
    "# Imports\n",
    "%reload_ext autoreload\n",
    "%autoreload 2\n",
    "\n",
    "from fastai2.basics import *\n",
    "from fastai2.text.all import *\n",
    "# from fastai2.callback.all import *\n",
    "# from fastai2.data.transforms import RandomSplitter\n",
    "from fastai2.text.core import defaults\n",
    "\n",
    "from nlp import load_dataset\n",
    "\n",
    "import spacy,html\n",
    "from spacy.symbols import ORTH\n",
    "\n",
    "import timeit\n",
    "import gc"
   ]
  },
  {
   "cell_type": "markdown",
   "metadata": {},
   "source": [
    "### Fastai Testing\n",
    "Init timing:"
   ]
  },
  {
   "cell_type": "code",
   "execution_count": 2,
   "metadata": {},
   "outputs": [
    {
     "data": {
      "text/html": [],
      "text/plain": [
       "<IPython.core.display.HTML object>"
      ]
     },
     "metadata": {},
     "output_type": "display_data"
    }
   ],
   "source": [
    "#collapse-hide\n",
    "#%%timeit -n 1 -r 3\n",
    "\n",
    "# Download data and save as csv\n",
    "# senti_dataset = load_dataset('sentiment140', split='train[:100%]', download_mode='reuse_cache_if_exists')\n",
    "# df = senti_dataset.data.to_pandas()\n",
    "# df.to_csv('sentiment140.csv')\n",
    "\n",
    "# Read data; the first 10% of the sentiment140 dataset, extraced from the `nlp` library and saved as a csv\n",
    "#fn_10pct = 'sentiment140_10pct.csv'\n",
    "fn = 'sentiment140.csv'\n",
    "df = pd.read_csv(fn, index_col=None)\n",
    "\n",
    "# SORT: Calculate text sample lengths\n",
    "df['word_count'] = df['text'].str.split().map(len)\n",
    "\n",
    "res=df['word_count'].values\n",
    "\n",
    "# Create Dataloaders\n",
    "dls = TextDataLoaders.from_csv(path='.', csv_fname=fn, valid_pct=0.2, bs=64, \n",
    "                               text_col='text', label_col='sentiment' , res=res)"
   ]
  },
  {
   "cell_type": "markdown",
   "metadata": {},
   "source": [
    "1 epoch timing"
   ]
  },
  {
   "cell_type": "code",
   "execution_count": 6,
   "metadata": {
    "scrolled": true
   },
   "outputs": [
    {
     "data": {
      "text/plain": [
       "(143.04122078799992, 0.007152061039399996)"
      ]
     },
     "execution_count": 6,
     "metadata": {},
     "output_type": "execute_result"
    }
   ],
   "source": [
    "#collapse-hide\n",
    "\n",
    "del df, res\n",
    "gc.collect()\n",
    "\n",
    "# Do 1 pass of the training dataloader\n",
    "s = \"\"\"for b in dls.train: pass\n",
    "    \"\"\"\n",
    "\n",
    "time = timeit.timeit(stmt=s, number=1, globals=globals()); time\n",
    "time, time / len(dls.train)"
   ]
  },
  {
   "cell_type": "markdown",
   "metadata": {},
   "source": [
    "### HuggingFace `nlp` Datasets Testing"
   ]
  },
  {
   "cell_type": "markdown",
   "metadata": {},
   "source": [
    "Tokenizer, Numericalizer and Padding functions, modified from Fastai's functions"
   ]
  },
  {
   "cell_type": "code",
   "execution_count": 2,
   "metadata": {},
   "outputs": [],
   "source": [
    "#collapse-hide\n",
    "class SpacyTokenizerNLP():\n",
    "    \"Spacy tokenizer for `lang`\"\n",
    "    def __init__(self, lang='en', special_toks=None, buf_sz=5000):\n",
    "        self.special_toks = ifnone(special_toks, defaults.text_spec_tok)\n",
    "        nlp = spacy.blank(lang, disable=[\"parser\", \"tagger\", \"ner\"])\n",
    "        for w in self.special_toks: nlp.tokenizer.add_special_case(w, [{ORTH: w}])\n",
    "        self.pipe,self.buf_sz = nlp.pipe,buf_sz\n",
    "        \n",
    "    def encodes(self, items):\n",
    "        tmp = [list(doc) for doc in self.pipe(items, batch_size=self.buf_sz)]\n",
    "        return {'tok_text_pre': [list(str(t) for t in l) for l in tmp]}\n",
    "\n",
    "def make_vocab(count, min_freq=3, max_vocab=60000, special_toks=None):\n",
    "    \"Create a vocab of `max_vocab` size from `Counter` `count` with items present more than `min_freq`\"\n",
    "    vocab = [o for o,c in count.most_common(max_vocab) if c >= min_freq]\n",
    "    special_toks = ifnone(special_toks, defaults.text_spec_tok)\n",
    "    for o in reversed(special_toks): #Make sure all special tokens are in the vocab\n",
    "        if o in vocab: vocab.remove(o)\n",
    "        vocab.insert(0, o)\n",
    "    vocab = vocab[:max_vocab]\n",
    "    return vocab + [f'xxfake' for i in range(0, 8-len(vocab)%8)]\n",
    "\n",
    "class NumericalizeNLP(Transform):\n",
    "    \"Reversible transform of tokenized texts to numericalized ids\"\n",
    "    def __init__(self, dsets=None, vocab=None, min_freq=3, max_vocab=60000, special_toks=None, pad_tok=None):\n",
    "        store_attr(self, 'vocab,min_freq,max_vocab,special_toks,pad_tok')\n",
    "        self.vocab, self.special_toks, self.min_freq, self.max_vocab = vocab, special_toks, min_freq, max_vocab\n",
    "        self.o2i = None if vocab is None else defaultdict(int, {v:k for k,v in enumerate(vocab)})\n",
    "\n",
    "        if self.vocab is None:\n",
    "            count = Counter(p for o in dsets for p in o)\n",
    "            self.vocab = make_vocab(count, min_freq=self.min_freq, max_vocab=self.max_vocab, special_toks=self.special_toks)\n",
    "            self.o2i = defaultdict(int, {v:k for k,v in enumerate(self.vocab) if v != 'xxfake'})\n",
    "    \n",
    "    def encodes_nlp(self, o): return TensorText(tensor([self.o2i  [o_] for o_ in o]))\n",
    "    def encodes_nlp(self, b): return {'toks' : [[self.o2i[o_] for o_ in oo] for oo in b['tok_text']]}\n",
    "    \n",
    "# Padding functions\n",
    "def pad_seq(x, max_batch_len, pad_idx):    \n",
    "    pad =  x.new_zeros(max_batch_len-x.size(0))+pad_idx\n",
    "    return torch.cat([x, pad])\n",
    " \n",
    "# Pad up to longest item in the batch and put batch on the GPU\n",
    "def pad_batch(batch=None, pad_token_id=1):\n",
    "    batch_inputs = list()\n",
    "    max_size = max([len(item['toks']) for item in batch])\n",
    "    for item in batch: batch_inputs += [pad_seq(item['toks'], max_size, pad_token_id)]\n",
    "    return torch.stack(batch_inputs).cuda()"
   ]
  },
  {
   "cell_type": "markdown",
   "metadata": {},
   "source": [
    "Download and define processing functions"
   ]
  },
  {
   "cell_type": "code",
   "execution_count": 9,
   "metadata": {
    "scrolled": true
   },
   "outputs": [
    {
     "name": "stdout",
     "output_type": "stream",
     "text": [
      "Downloading and preparing dataset sentiment140/sentiment140 (download: 77.59 MiB, generated: 214.21 MiB, total: 291.81 MiB) to /home/morgan/.cache/huggingface/datasets/sentiment140/sentiment140/1.0.0...\n"
     ]
    },
    {
     "data": {
      "application/vnd.jupyter.widget-view+json": {
       "model_id": "",
       "version_major": 2,
       "version_minor": 0
      },
      "text/plain": [
       "HBox(children=(FloatProgress(value=1.0, bar_style='info', max=1.0), HTML(value='')))"
      ]
     },
     "metadata": {},
     "output_type": "display_data"
    },
    {
     "name": "stdout",
     "output_type": "stream",
     "text": [
      "\r"
     ]
    },
    {
     "data": {
      "application/vnd.jupyter.widget-view+json": {
       "model_id": "",
       "version_major": 2,
       "version_minor": 0
      },
      "text/plain": [
       "HBox(children=(FloatProgress(value=1.0, bar_style='info', max=1.0), HTML(value='')))"
      ]
     },
     "metadata": {},
     "output_type": "display_data"
    },
    {
     "name": "stdout",
     "output_type": "stream",
     "text": [
      "Dataset sentiment140 downloaded and prepared to /home/morgan/.cache/huggingface/datasets/sentiment140/sentiment140/1.0.0. Subsequent calls will reuse this data.\n"
     ]
    }
   ],
   "source": [
    "#collapse-hide\n",
    "\n",
    "# Download text, a clean version of the dataset is downloaded (not included in the timings)\n",
    "train_senti_dataset = load_dataset('sentiment140', split='train[:80%]', download_mode='reuse_cache_if_exists')\n",
    "val_senti_dataset = load_dataset('sentiment140', split='train[80:100%]', download_mode='reuse_cache_if_exists')\n",
    "\n",
    "spacy_tok = SpacyTokenizerNLP(lang='en', special_toks=defaults.text_spec_tok)\n",
    "\n",
    "def preproc_and_tok(b): return spacy_tok.encodes(list(maps(*defaults.text_proc_rules, b['text'])))\n",
    "\n",
    "def postproc(b): \n",
    "    return {'tok_text': [list(maps(*defaults.text_postproc_rules, _b)) for _b in b['tok_text_pre']]}\n",
    "\n",
    "def get_tok_lengths(example_batch): return {'tok_lens': [len(e) for e in example_batch['toks']]}\n",
    "\n",
    "def prepare_dataset(dataset, vocab=None, is_train=True):\n",
    "    '''\n",
    "        Takes a raw nlp dataset and returns a processed, tokenized, numericalised dataset\n",
    "    '''\n",
    "    # Apply processing rules and tokenize\n",
    "    print('pre-proc and tokenize')\n",
    "    dataset = dataset.map(preproc_and_tok, batched=True)\n",
    "\n",
    "    # Apply post-processing rules \n",
    "    print('post=proc')\n",
    "    dataset = dataset.map(postproc, batched=True)\n",
    "\n",
    "    # Init Numericalizer and create vocab\n",
    "    print('init numericalizer')\n",
    "    if is_train: numeric = NumericalizeNLP(dsets=dataset['tok_text_pre'], special_toks=defaults.text_spec_tok, pad_tok=1)\n",
    "    else: numeric = NumericalizeNLP(dsets=dataset['tok_text_pre'], vocab=vocab,\n",
    "                                    special_toks=defaults.text_spec_tok, pad_tok=1)\n",
    "    \n",
    "    # Numericalize\n",
    "    print('numericalizing')\n",
    "    dataset = dataset.map(numeric.encodes_nlp, batched=True)\n",
    "\n",
    "    # Get sample lengths for sorting\n",
    "    dataset=dataset.map(get_tok_lengths, batched=True)\n",
    "    \n",
    "    print('sorting')\n",
    "    # Sort dataset from small to large\n",
    "    dataset = dataset.sort('tok_lens')\n",
    "    \n",
    "    return dataset, numeric"
   ]
  },
  {
   "cell_type": "markdown",
   "metadata": {},
   "source": [
    "Init Timing"
   ]
  },
  {
   "cell_type": "code",
   "execution_count": null,
   "metadata": {},
   "outputs": [],
   "source": [
    "#collapse-hide\n",
    "\n",
    "s = \"\"\"\n",
    "# Load train and validation datasets from downloaded files\n",
    "train_senti_dataset = load_dataset('sentiment140', split='train[:80%]')\n",
    "val_senti_dataset = load_dataset('sentiment140', split='train[80%:100%]')\n",
    "\n",
    "# Get processed tokens\n",
    "train_senti, numeric = prepare_dataset(train_senti_dataset)\n",
    "val_senti, numeric = prepare_dataset(val_senti_dataset, vocab=numeric.vocab)\n",
    "\n",
    "# Set as Pytorch type\n",
    "print('setting format')\n",
    "columns = ['toks','sentiment']\n",
    "train_senti.set_format(type='torch', columns=columns)\n",
    "val_senti[0].set_format(type='torch', columns=columns)\n",
    "\n",
    "# Instantiate out PyTorch Dataloaders \n",
    "print('init dataloaders')\n",
    "train_dataloader = torch.utils.data.DataLoader(train_senti, batch_size=64, collate_fn=pad_batch)\n",
    "val_dataloader = torch.utils.data.DataLoader(val_senti, batch_size=64, collate_fn=pad_batch)\n",
    "\"\"\"\n",
    "\n",
    "time = timeit.timeit(stmt=s, number=1, globals=globals())\n",
    "time"
   ]
  },
  {
   "cell_type": "markdown",
   "metadata": {},
   "source": [
    "Time `nlp` 1 epoch"
   ]
  },
  {
   "cell_type": "code",
   "execution_count": 11,
   "metadata": {
    "scrolled": true
   },
   "outputs": [
    {
     "data": {
      "text/plain": [
       "(323.86245587099984, 0.01619312279354999)"
      ]
     },
     "execution_count": 11,
     "metadata": {},
     "output_type": "execute_result"
    }
   ],
   "source": [
    "#collapse-hide\n",
    "s = \"for b in train_dataloader: pass\"\n",
    "time = timeit.timeit(stmt=s, number=1, globals=globals()); time\n",
    "time, time / (len(train_senti)/64)"
   ]
  }
 ],
 "metadata": {
  "kernelspec": {
   "display_name": "Python 3",
   "language": "python",
   "name": "python3"
  },
  "language_info": {
   "codemirror_mode": {
    "name": "ipython",
    "version": 3
   },
   "file_extension": ".py",
   "mimetype": "text/x-python",
   "name": "python",
   "nbconvert_exporter": "python",
   "pygments_lexer": "ipython3",
   "version": "3.7.5"
  },
  "toc": {
   "base_numbering": 1,
   "nav_menu": {},
   "number_sections": true,
   "sideBar": true,
   "skip_h1_title": false,
   "title_cell": "Table of Contents",
   "title_sidebar": "Contents",
   "toc_cell": false,
   "toc_position": {},
   "toc_section_display": true,
   "toc_window_display": false
  },
  "varInspector": {
   "cols": {
    "lenName": 16,
    "lenType": 16,
    "lenVar": 40
   },
   "kernels_config": {
    "python": {
     "delete_cmd_postfix": "",
     "delete_cmd_prefix": "del ",
     "library": "var_list.py",
     "varRefreshCmd": "print(var_dic_list())"
    },
    "r": {
     "delete_cmd_postfix": ") ",
     "delete_cmd_prefix": "rm(",
     "library": "var_list.r",
     "varRefreshCmd": "cat(var_dic_list()) "
    }
   },
   "types_to_exclude": [
    "module",
    "function",
    "builtin_function_or_method",
    "instance",
    "_Feature"
   ],
   "window_display": false
  }
 },
 "nbformat": 4,
 "nbformat_minor": 2
}
